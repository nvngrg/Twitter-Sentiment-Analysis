{
 "cells": [
  {
   "cell_type": "markdown",
   "id": "e39c7a8a-3a88-4585-a393-14fcbb6c8a69",
   "metadata": {},
   "source": [
    "# **🚀 What is Sentiment Analysis?**\n",
    "\n",
    "**Goal** : Understand how people feel from their tweets — are they **positive, negative, or neutral**?\n",
    "\n",
    "For example:\n",
    "\n",
    "- “I love the new iPhone!” → **Positive**\n",
    "\n",
    "- “This app keeps crashing.” → **Negative**\n",
    "\n",
    "- “Today is Monday.” → **Neutral**\n",
    "\n"
   ]
  },
  {
   "cell_type": "markdown",
   "id": "e4645eeb-de50-4483-9409-0f98ba62db53",
   "metadata": {},
   "source": [
    "# 💻 step 1: Import Libraries"
   ]
  },
  {
   "cell_type": "code",
   "execution_count": 1,
   "id": "ac8727be-43e9-49ae-953e-91506c0e2f18",
   "metadata": {},
   "outputs": [],
   "source": [
    "import pandas as pd\n",
    "import numpy as np\n",
    "import matplotlib.pyplot as plt\n",
    "import seaborn as sns\n",
    "\n",
    "import nltk\n",
    "from nltk.corpus import stopwords # common words like \"is\", \"the\" which we can remove\n",
    "import string # for text cleaning using patterns\n",
    "\n",
    "import tensorflow as tf\n",
    "import keras\n",
    "from tensorflow.keras.preprocessing.text import Tokenizer #  turns words into numbers\n",
    "from tensorflow.keras.preprocessing.sequence import pad_sequences # makes all tweet lengths equal\n",
    "from keras.layers import LSTM, Embedding, Dropout, Dense, GlobalAveragePooling1D, Bidirectional, BatchNormalization\n",
    "# Embedding = helps the model understand word meanings\n",
    "# LSTM = special layer for learning sequences (like sentences)\n",
    "# Dense = decision-making layer\n",
    "# Dropout = helps prevent overfitting (model becoming too perfect on training data)\n",
    "from tensorflow.keras.regularizers import l2\n",
    "from keras.models import Sequential # stacks layers one after another\n",
    "from tensorflow.keras.callbacks import EarlyStopping\n",
    "from sklearn.preprocessing import LabelEncoder #converts text labels like \"Positive\" into numbers (e.g., 0, 1, 2)\n",
    "from sklearn.metrics import accuracy_score ,classification_report ,roc_curve, auc ,precision_recall_curve\n",
    "from sklearn.model_selection import train_test_split #  splits data into “learning” and “testing” parts\n",
    "\n",
    "import pickle\n",
    "import joblib"
   ]
  },
  {
   "cell_type": "markdown",
   "id": "c6ba35d1-5590-455e-9546-0c82acadb1fe",
   "metadata": {},
   "source": [
    "# 🛡️step 2: Read data"
   ]
  },
  {
   "cell_type": "code",
   "execution_count": 2,
   "id": "d3caa38a-7165-47aa-a9f7-e9e89818ae32",
   "metadata": {},
   "outputs": [
    {
     "data": {
      "text/plain": [
       "((74682, 4), (1000, 4))"
      ]
     },
     "execution_count": 2,
     "metadata": {},
     "output_type": "execute_result"
    }
   ],
   "source": [
    "train_data =pd.read_csv(r'twitter_training.csv', names=['number' , 'Border' , 'label' , 'text'] )\n",
    "test_data =pd.read_csv(r'twitter_validation.csv', names=['number' , 'Border' , 'label' , 'text'])\n",
    "train_data.shape, test_data.shape"
   ]
  },
  {
   "cell_type": "code",
   "execution_count": 3,
   "id": "6dc72df2-5a55-4361-b169-74abff303c5d",
   "metadata": {},
   "outputs": [
    {
     "name": "stdout",
     "output_type": "stream",
     "text": [
      "<class 'pandas.core.frame.DataFrame'>\n",
      "RangeIndex: 74682 entries, 0 to 74681\n",
      "Data columns (total 4 columns):\n",
      " #   Column  Non-Null Count  Dtype \n",
      "---  ------  --------------  ----- \n",
      " 0   number  74682 non-null  int64 \n",
      " 1   Border  74682 non-null  object\n",
      " 2   label   74682 non-null  object\n",
      " 3   text    73996 non-null  object\n",
      "dtypes: int64(1), object(3)\n",
      "memory usage: 2.3+ MB\n"
     ]
    }
   ],
   "source": [
    "train_data.info()"
   ]
  },
  {
   "cell_type": "code",
   "execution_count": 4,
   "id": "56272e0e-e2d3-46ab-a1ef-8f574041b60c",
   "metadata": {},
   "outputs": [
    {
     "name": "stdout",
     "output_type": "stream",
     "text": [
      "<class 'pandas.core.frame.DataFrame'>\n",
      "RangeIndex: 1000 entries, 0 to 999\n",
      "Data columns (total 4 columns):\n",
      " #   Column  Non-Null Count  Dtype \n",
      "---  ------  --------------  ----- \n",
      " 0   number  1000 non-null   int64 \n",
      " 1   Border  1000 non-null   object\n",
      " 2   label   1000 non-null   object\n",
      " 3   text    1000 non-null   object\n",
      "dtypes: int64(1), object(3)\n",
      "memory usage: 31.4+ KB\n"
     ]
    }
   ],
   "source": [
    "test_data.info()"
   ]
  },
  {
   "cell_type": "code",
   "execution_count": 5,
   "id": "3afefaed-8ebd-43c7-8951-b2b4aef1f45d",
   "metadata": {},
   "outputs": [
    {
     "data": {
      "application/vnd.microsoft.datawrangler.viewer.v0+json": {
       "columns": [
        {
         "name": "index",
         "rawType": "int64",
         "type": "integer"
        },
        {
         "name": "number",
         "rawType": "int64",
         "type": "integer"
        },
        {
         "name": "Border",
         "rawType": "object",
         "type": "string"
        },
        {
         "name": "label",
         "rawType": "object",
         "type": "string"
        },
        {
         "name": "text",
         "rawType": "object",
         "type": "string"
        }
       ],
       "conversionMethod": "pd.DataFrame",
       "ref": "736e29ef-3182-4dee-acdd-4155afc02ae3",
       "rows": [
        [
         "0",
         "2401",
         "Borderlands",
         "Positive",
         "im getting on borderlands and i will murder you all ,"
        ],
        [
         "1",
         "2401",
         "Borderlands",
         "Positive",
         "I am coming to the borders and I will kill you all,"
        ],
        [
         "2",
         "2401",
         "Borderlands",
         "Positive",
         "im getting on borderlands and i will kill you all,"
        ],
        [
         "3",
         "2401",
         "Borderlands",
         "Positive",
         "im coming on borderlands and i will murder you all,"
        ],
        [
         "4",
         "2401",
         "Borderlands",
         "Positive",
         "im getting on borderlands 2 and i will murder you me all,"
        ]
       ],
       "shape": {
        "columns": 4,
        "rows": 5
       }
      },
      "text/html": [
       "<div>\n",
       "<style scoped>\n",
       "    .dataframe tbody tr th:only-of-type {\n",
       "        vertical-align: middle;\n",
       "    }\n",
       "\n",
       "    .dataframe tbody tr th {\n",
       "        vertical-align: top;\n",
       "    }\n",
       "\n",
       "    .dataframe thead th {\n",
       "        text-align: right;\n",
       "    }\n",
       "</style>\n",
       "<table border=\"1\" class=\"dataframe\">\n",
       "  <thead>\n",
       "    <tr style=\"text-align: right;\">\n",
       "      <th></th>\n",
       "      <th>number</th>\n",
       "      <th>Border</th>\n",
       "      <th>label</th>\n",
       "      <th>text</th>\n",
       "    </tr>\n",
       "  </thead>\n",
       "  <tbody>\n",
       "    <tr>\n",
       "      <th>0</th>\n",
       "      <td>2401</td>\n",
       "      <td>Borderlands</td>\n",
       "      <td>Positive</td>\n",
       "      <td>im getting on borderlands and i will murder yo...</td>\n",
       "    </tr>\n",
       "    <tr>\n",
       "      <th>1</th>\n",
       "      <td>2401</td>\n",
       "      <td>Borderlands</td>\n",
       "      <td>Positive</td>\n",
       "      <td>I am coming to the borders and I will kill you...</td>\n",
       "    </tr>\n",
       "    <tr>\n",
       "      <th>2</th>\n",
       "      <td>2401</td>\n",
       "      <td>Borderlands</td>\n",
       "      <td>Positive</td>\n",
       "      <td>im getting on borderlands and i will kill you ...</td>\n",
       "    </tr>\n",
       "    <tr>\n",
       "      <th>3</th>\n",
       "      <td>2401</td>\n",
       "      <td>Borderlands</td>\n",
       "      <td>Positive</td>\n",
       "      <td>im coming on borderlands and i will murder you...</td>\n",
       "    </tr>\n",
       "    <tr>\n",
       "      <th>4</th>\n",
       "      <td>2401</td>\n",
       "      <td>Borderlands</td>\n",
       "      <td>Positive</td>\n",
       "      <td>im getting on borderlands 2 and i will murder ...</td>\n",
       "    </tr>\n",
       "  </tbody>\n",
       "</table>\n",
       "</div>"
      ],
      "text/plain": [
       "   number       Border     label  \\\n",
       "0    2401  Borderlands  Positive   \n",
       "1    2401  Borderlands  Positive   \n",
       "2    2401  Borderlands  Positive   \n",
       "3    2401  Borderlands  Positive   \n",
       "4    2401  Borderlands  Positive   \n",
       "\n",
       "                                                text  \n",
       "0  im getting on borderlands and i will murder yo...  \n",
       "1  I am coming to the borders and I will kill you...  \n",
       "2  im getting on borderlands and i will kill you ...  \n",
       "3  im coming on borderlands and i will murder you...  \n",
       "4  im getting on borderlands 2 and i will murder ...  "
      ]
     },
     "execution_count": 5,
     "metadata": {},
     "output_type": "execute_result"
    }
   ],
   "source": [
    "train_data.head()"
   ]
  },
  {
   "cell_type": "markdown",
   "id": "9defc9c6-d060-4707-9c18-9733668cfd1a",
   "metadata": {},
   "source": [
    "# step 3: Drop 'number', 'Border' Columns coz not usefull"
   ]
  },
  {
   "cell_type": "code",
   "execution_count": 6,
   "id": "38e4ab4c-5dfd-4161-ba47-fceb3e3fc107",
   "metadata": {},
   "outputs": [
    {
     "data": {
      "application/vnd.microsoft.datawrangler.viewer.v0+json": {
       "columns": [
        {
         "name": "index",
         "rawType": "int64",
         "type": "integer"
        },
        {
         "name": "label",
         "rawType": "object",
         "type": "string"
        },
        {
         "name": "text",
         "rawType": "object",
         "type": "string"
        }
       ],
       "conversionMethod": "pd.DataFrame",
       "ref": "99f48b7d-fb15-48ac-8786-7be6313bf5b7",
       "rows": [
        [
         "0",
         "Positive",
         "im getting on borderlands and i will murder you all ,"
        ],
        [
         "1",
         "Positive",
         "I am coming to the borders and I will kill you all,"
        ],
        [
         "2",
         "Positive",
         "im getting on borderlands and i will kill you all,"
        ],
        [
         "3",
         "Positive",
         "im coming on borderlands and i will murder you all,"
        ],
        [
         "4",
         "Positive",
         "im getting on borderlands 2 and i will murder you me all,"
        ]
       ],
       "shape": {
        "columns": 2,
        "rows": 5
       }
      },
      "text/html": [
       "<div>\n",
       "<style scoped>\n",
       "    .dataframe tbody tr th:only-of-type {\n",
       "        vertical-align: middle;\n",
       "    }\n",
       "\n",
       "    .dataframe tbody tr th {\n",
       "        vertical-align: top;\n",
       "    }\n",
       "\n",
       "    .dataframe thead th {\n",
       "        text-align: right;\n",
       "    }\n",
       "</style>\n",
       "<table border=\"1\" class=\"dataframe\">\n",
       "  <thead>\n",
       "    <tr style=\"text-align: right;\">\n",
       "      <th></th>\n",
       "      <th>label</th>\n",
       "      <th>text</th>\n",
       "    </tr>\n",
       "  </thead>\n",
       "  <tbody>\n",
       "    <tr>\n",
       "      <th>0</th>\n",
       "      <td>Positive</td>\n",
       "      <td>im getting on borderlands and i will murder yo...</td>\n",
       "    </tr>\n",
       "    <tr>\n",
       "      <th>1</th>\n",
       "      <td>Positive</td>\n",
       "      <td>I am coming to the borders and I will kill you...</td>\n",
       "    </tr>\n",
       "    <tr>\n",
       "      <th>2</th>\n",
       "      <td>Positive</td>\n",
       "      <td>im getting on borderlands and i will kill you ...</td>\n",
       "    </tr>\n",
       "    <tr>\n",
       "      <th>3</th>\n",
       "      <td>Positive</td>\n",
       "      <td>im coming on borderlands and i will murder you...</td>\n",
       "    </tr>\n",
       "    <tr>\n",
       "      <th>4</th>\n",
       "      <td>Positive</td>\n",
       "      <td>im getting on borderlands 2 and i will murder ...</td>\n",
       "    </tr>\n",
       "  </tbody>\n",
       "</table>\n",
       "</div>"
      ],
      "text/plain": [
       "      label                                               text\n",
       "0  Positive  im getting on borderlands and i will murder yo...\n",
       "1  Positive  I am coming to the borders and I will kill you...\n",
       "2  Positive  im getting on borderlands and i will kill you ...\n",
       "3  Positive  im coming on borderlands and i will murder you...\n",
       "4  Positive  im getting on borderlands 2 and i will murder ..."
      ]
     },
     "execution_count": 6,
     "metadata": {},
     "output_type": "execute_result"
    }
   ],
   "source": [
    "train_data.drop(['number', 'Border'], axis= 1, inplace= True)\n",
    "test_data.drop(['number', 'Border'], axis= 1, inplace= True)\n",
    "train_data.head()"
   ]
  },
  {
   "cell_type": "markdown",
   "id": "73294e55-10fb-480e-907f-b00f3acf0d71",
   "metadata": {},
   "source": [
    "# Step 4: null value treatement"
   ]
  },
  {
   "cell_type": "code",
   "execution_count": 7,
   "id": "737bdd98-9867-4377-a812-e134aa727419",
   "metadata": {},
   "outputs": [
    {
     "data": {
      "text/plain": [
       "label      0\n",
       "text     686\n",
       "dtype: int64"
      ]
     },
     "execution_count": 7,
     "metadata": {},
     "output_type": "execute_result"
    }
   ],
   "source": [
    "train_data.isna().sum()"
   ]
  },
  {
   "cell_type": "markdown",
   "id": "5c45a9bb-13af-4e44-a3cf-2b6770fbb0ef",
   "metadata": {},
   "source": [
    "## 4.1 Remove Nulls"
   ]
  },
  {
   "cell_type": "code",
   "execution_count": 8,
   "id": "191f7046-817f-446f-962f-01390981aac2",
   "metadata": {},
   "outputs": [],
   "source": [
    "train_data.dropna(axis=0, inplace= True)"
   ]
  },
  {
   "cell_type": "markdown",
   "id": "20bd4ca7-4aec-4a43-a027-5ef468ec1e86",
   "metadata": {},
   "source": [
    "## 4.2 Remove Duplication"
   ]
  },
  {
   "cell_type": "code",
   "execution_count": 9,
   "id": "070d2863-3121-4152-9456-825e9a1ddc9a",
   "metadata": {},
   "outputs": [
    {
     "data": {
      "text/plain": [
       "4227"
      ]
     },
     "execution_count": 9,
     "metadata": {},
     "output_type": "execute_result"
    }
   ],
   "source": [
    "train_data.duplicated().sum()"
   ]
  },
  {
   "cell_type": "code",
   "execution_count": 10,
   "id": "d92d76ec-b2ea-4914-8e94-33b2d0cba33c",
   "metadata": {},
   "outputs": [],
   "source": [
    "train_data.drop_duplicates(inplace= True)"
   ]
  },
  {
   "cell_type": "code",
   "execution_count": 11,
   "id": "6f9354db-5b87-4b42-9127-8ff1549f66cf",
   "metadata": {},
   "outputs": [
    {
     "data": {
      "text/plain": [
       "(69769, 2)"
      ]
     },
     "execution_count": 11,
     "metadata": {},
     "output_type": "execute_result"
    }
   ],
   "source": [
    "train_data.shape"
   ]
  },
  {
   "cell_type": "markdown",
   "id": "aec75284-c34b-471d-b934-6be49302c25b",
   "metadata": {},
   "source": [
    "# Step 5: EDA with dataset"
   ]
  },
  {
   "cell_type": "code",
   "execution_count": 12,
   "id": "fe855b6e-7304-4356-b00a-7be35840e3e0",
   "metadata": {},
   "outputs": [
    {
     "data": {
      "text/plain": [
       "label\n",
       "Negative      21237\n",
       "Positive      19138\n",
       "Neutral       17110\n",
       "Irrelevant    12284\n",
       "Name: count, dtype: int64"
      ]
     },
     "execution_count": 12,
     "metadata": {},
     "output_type": "execute_result"
    }
   ],
   "source": [
    "train_data['label'].value_counts() # counting diffrent values on lebel column"
   ]
  },
  {
   "cell_type": "code",
   "execution_count": 13,
   "id": "c44e2309-6362-432b-a4bf-9e97d803818a",
   "metadata": {},
   "outputs": [
    {
     "data": {
      "text/plain": [
       "<Axes: ylabel='count'>"
      ]
     },
     "execution_count": 13,
     "metadata": {},
     "output_type": "execute_result"
    },
    {
     "data": {
      "image/png": "[encoded data removed]",
      "text/plain": [
       "<Figure size 640x480 with 1 Axes>"
      ]
     },
     "metadata": {},
     "output_type": "display_data"
    }
   ],
   "source": [
    "train_data['label'].value_counts().plot.pie(autopct='%2.2f%%') #analysis values"
   ]
  },
  {
   "cell_type": "markdown",
   "id": "92e80be6-fbd7-4614-af5f-2f07912cd808",
   "metadata": {},
   "source": [
    "**We will concider only \"positive\" and \"negative\" tweet text commant**"
   ]
  },
  {
   "cell_type": "code",
   "execution_count": 14,
   "id": "fd6b9923-b7b9-44d8-b1ac-e62d97eafc5b",
   "metadata": {},
   "outputs": [],
   "source": [
    "train_data = train_data[train_data['label'].isin(['Positive', 'Negative'])]# choose only +ve and -ve commant"
   ]
  },
  {
   "cell_type": "code",
   "execution_count": 15,
   "id": "5e6271cb-5da4-4e8e-86db-a323ec572419",
   "metadata": {},
   "outputs": [
    {
     "data": {
      "text/plain": [
       "label\n",
       "Negative    21237\n",
       "Positive    19138\n",
       "Name: count, dtype: int64"
      ]
     },
     "execution_count": 15,
     "metadata": {},
     "output_type": "execute_result"
    }
   ],
   "source": [
    "train_data['label'].value_counts() # count of +ve and -vd comment"
   ]
  },
  {
   "cell_type": "code",
   "execution_count": 16,
   "id": "4e898b18-7990-4357-aca5-3626dcd0a77b",
   "metadata": {},
   "outputs": [
    {
     "data": {
      "text/plain": [
       "<Axes: ylabel='count'>"
      ]
     },
     "execution_count": 16,
     "metadata": {},
     "output_type": "execute_result"
    },
    {
     "data": {
      "image/png": "[encoded data removed]",
      "text/plain": [
       "<Figure size 640x480 with 1 Axes>"
      ]
     },
     "metadata": {},
     "output_type": "display_data"
    }
   ],
   "source": [
    "train_data['label'].value_counts().plot.pie(autopct='%2.2f%%') # pie chart of +ve and -ve"
   ]
  },
  {
   "cell_type": "markdown",
   "id": "54e82c57-e3bd-4fc7-8ab3-46169ec62572",
   "metadata": {},
   "source": [
    "# step 6: preprocessing data"
   ]
  },
  {
   "cell_type": "code",
   "execution_count": 17,
   "id": "774f20b5-e4ec-4d4e-8b3b-27bb5073ab41",
   "metadata": {},
   "outputs": [],
   "source": [
    "embedding_dim =128\n",
    "oov_tok ='<OOV>'\n",
    "training_portion = .8\n",
    "max_length =150"
   ]
  },
  {
   "cell_type": "code",
   "execution_count": 18,
   "id": "905f741d-37d4-4a59-8f5a-f560e1262e36",
   "metadata": {},
   "outputs": [
    {
     "data": {
      "text/plain": [
       "\"2010 So I spent a few hours making something for fun. . . If you don't know I am a HUGE RhandlerR fan and Maya is one of my favorite characters. So I decided to make myself a wallpaper for my PC. . Here is the original image versus the creation I made :) Enjoy! pic.twitter.com/mLsI5wf9Jg\""
      ]
     },
     "execution_count": 18,
     "metadata": {},
     "output_type": "execute_result"
    }
   ],
   "source": [
    "train_data['text'][10]"
   ]
  },
  {
   "cell_type": "markdown",
   "id": "73e0c769-b4e9-4dbc-a3f6-f25e428d778d",
   "metadata": {},
   "source": [
    "## 6.1 Data Cleaning"
   ]
  },
  {
   "cell_type": "code",
   "execution_count": 19,
   "id": "95fff006-8428-4c11-abe6-9e13a3a7ae6b",
   "metadata": {},
   "outputs": [
    {
     "name": "stderr",
     "output_type": "stream",
     "text": [
      "[nltk_data] Downloading package punkt to\n",
      "[nltk_data]     C:\\Users\\Admin\\AppData\\Roaming\\nltk_data...\n",
      "[nltk_data]   Package punkt is already up-to-date!\n",
      "[nltk_data] Downloading package stopwords to\n",
      "[nltk_data]     C:\\Users\\Admin\\AppData\\Roaming\\nltk_data...\n",
      "[nltk_data]   Package stopwords is already up-to-date!\n",
      "[nltk_data] Downloading package wordnet to\n",
      "[nltk_data]     C:\\Users\\Admin\\AppData\\Roaming\\nltk_data...\n",
      "[nltk_data]   Package wordnet is already up-to-date!\n"
     ]
    },
    {
     "data": {
      "text/plain": [
       "True"
      ]
     },
     "execution_count": 19,
     "metadata": {},
     "output_type": "execute_result"
    }
   ],
   "source": [
    "nltk.download('punkt')\n",
    "nltk.download('stopwords')\n",
    "nltk.download('wordnet')"
   ]
  },
  {
   "cell_type": "code",
   "execution_count": 20,
   "id": "19ce94cc-4750-4666-bf4a-f3a14838a69b",
   "metadata": {},
   "outputs": [
    {
     "name": "stdout",
     "output_type": "stream",
     "text": [
      "['a', 'about', 'above', 'after', 'again', 'against', 'ain', 'all', 'am', 'an', 'and', 'any', 'are', 'aren', \"aren't\", 'as', 'at', 'be', 'because', 'been', 'before', 'being', 'below', 'between', 'both', 'but', 'by', 'can', 'couldn', \"couldn't\", 'd', 'did', 'didn', \"didn't\", 'do', 'does', 'doesn', \"doesn't\", 'doing', 'don', \"don't\", 'down', 'during', 'each', 'few', 'for', 'from', 'further', 'had', 'hadn', \"hadn't\", 'has', 'hasn', \"hasn't\", 'have', 'haven', \"haven't\", 'having', 'he', \"he'd\", \"he'll\", 'her', 'here', 'hers', 'herself', \"he's\", 'him', 'himself', 'his', 'how', 'i', \"i'd\", 'if', \"i'll\", \"i'm\", 'in', 'into', 'is', 'isn', \"isn't\", 'it', \"it'd\", \"it'll\", \"it's\", 'its', 'itself', \"i've\", 'just', 'll', 'm', 'ma', 'me', 'mightn', \"mightn't\", 'more', 'most', 'mustn', \"mustn't\", 'my', 'myself', 'needn', \"needn't\", 'no', 'nor', 'not', 'now', 'o', 'of', 'off', 'on', 'once', 'only', 'or', 'other', 'our', 'ours', 'ourselves', 'out', 'over', 'own', 're', 's', 'same', 'shan', \"shan't\", 'she', \"she'd\", \"she'll\", \"she's\", 'should', 'shouldn', \"shouldn't\", \"should've\", 'so', 'some', 'such', 't', 'than', 'that', \"that'll\", 'the', 'their', 'theirs', 'them', 'themselves', 'then', 'there', 'these', 'they', \"they'd\", \"they'll\", \"they're\", \"they've\", 'this', 'those', 'through', 'to', 'too', 'under', 'until', 'up', 've', 'very', 'was', 'wasn', \"wasn't\", 'we', \"we'd\", \"we'll\", \"we're\", 'were', 'weren', \"weren't\", \"we've\", 'what', 'when', 'where', 'which', 'while', 'who', 'whom', 'why', 'will', 'with', 'won', \"won't\", 'wouldn', \"wouldn't\", 'y', 'you', \"you'd\", \"you'll\", 'your', \"you're\", 'yours', 'yourself', 'yourselves', \"you've\"]\n"
     ]
    }
   ],
   "source": [
    "punc =string.punctuation\n",
    "st_words =stopwords.words('english')\n",
    "print(st_words)"
   ]
  },
  {
   "cell_type": "code",
   "execution_count": 21,
   "id": "f0d0cdc0-0d44-4fd3-8133-4130525e2cc5",
   "metadata": {},
   "outputs": [
    {
     "data": {
      "text/plain": [
       "'!\"#$%&\\'()*+,-./:;<=>?@[\\\\]^_`{|}~'"
      ]
     },
     "execution_count": 21,
     "metadata": {},
     "output_type": "execute_result"
    }
   ],
   "source": [
    "punc"
   ]
  },
  {
   "cell_type": "code",
   "execution_count": 22,
   "id": "7a87e08c-b12d-416d-9b5b-6bc95eccdc0c",
   "metadata": {},
   "outputs": [],
   "source": [
    "import re\n",
    "from nltk.tokenize import word_tokenize\n",
    "from nltk.corpus import stopwords\n",
    "from nltk.stem import WordNetLemmatizer, PorterStemmer # lemmatizer = brings words to root form: \"running\" → \"run\"\n"
   ]
  },
  {
   "cell_type": "code",
   "execution_count": 23,
   "id": "b4287dfb-69a8-4632-93bb-739006a41224",
   "metadata": {},
   "outputs": [
    {
     "name": "stderr",
     "output_type": "stream",
     "text": [
      "<>:3: SyntaxWarning: invalid escape sequence '\\w'\n",
      "<>:4: SyntaxWarning: invalid escape sequence '\\S'\n",
      "<>:5: SyntaxWarning: invalid escape sequence '\\w'\n",
      "<>:7: SyntaxWarning: invalid escape sequence '\\W'\n",
      "<>:11: SyntaxWarning: invalid escape sequence '\\s'\n",
      "<>:14: SyntaxWarning: invalid escape sequence '\\s'\n",
      "<>:3: SyntaxWarning: invalid escape sequence '\\w'\n",
      "<>:4: SyntaxWarning: invalid escape sequence '\\S'\n",
      "<>:5: SyntaxWarning: invalid escape sequence '\\w'\n",
      "<>:7: SyntaxWarning: invalid escape sequence '\\W'\n",
      "<>:11: SyntaxWarning: invalid escape sequence '\\s'\n",
      "<>:14: SyntaxWarning: invalid escape sequence '\\s'\n",
      "C:\\Users\\Admin\\AppData\\Local\\Temp\\ipykernel_13740\\3253032727.py:3: SyntaxWarning: invalid escape sequence '\\w'\n",
      "  text = re.sub('@ ?[\\w]+', '', text)\n",
      "C:\\Users\\Admin\\AppData\\Local\\Temp\\ipykernel_13740\\3253032727.py:4: SyntaxWarning: invalid escape sequence '\\S'\n",
      "  text = re.sub('https?://\\S+|www\\.\\S+' ,' ',text)\n",
      "C:\\Users\\Admin\\AppData\\Local\\Temp\\ipykernel_13740\\3253032727.py:5: SyntaxWarning: invalid escape sequence '\\w'\n",
      "  text = re.sub('\\w*gmail.com\\b|\\w*yahoo.co.in\\b' ,' ',text)\n",
      "C:\\Users\\Admin\\AppData\\Local\\Temp\\ipykernel_13740\\3253032727.py:7: SyntaxWarning: invalid escape sequence '\\W'\n",
      "  text = re.sub('[\\W]',' ', text)\n",
      "C:\\Users\\Admin\\AppData\\Local\\Temp\\ipykernel_13740\\3253032727.py:11: SyntaxWarning: invalid escape sequence '\\s'\n",
      "  text = re.sub('\\s+[a-zA-Z]\\s+',' ', text)\n",
      "C:\\Users\\Admin\\AppData\\Local\\Temp\\ipykernel_13740\\3253032727.py:14: SyntaxWarning: invalid escape sequence '\\s'\n",
      "  text = re.sub('\\s+',' ', text)\n"
     ]
    }
   ],
   "source": [
    "def clean_text (text):\n",
    "\n",
    "    text = re.sub('@ ?[\\w]+', '', text)\n",
    "    text = re.sub('https?://\\S+|www\\.\\S+' ,' ',text)\n",
    "    text = re.sub('\\w*gmail.com\\b|\\w*yahoo.co.in\\b' ,' ',text)\n",
    "    text = re.sub('<.*>', '', text)\n",
    "    text = re.sub('[\\W]',' ', text)\n",
    "    text = re.sub('[0-9]',' ', text)\n",
    "    \n",
    "    #remove single character\n",
    "    text = re.sub('\\s+[a-zA-Z]\\s+',' ', text)\n",
    "    \n",
    "    # removeing multiple spaces\n",
    "    text = re.sub('\\s+',' ', text)\n",
    "    \n",
    "    #tokens = word_tokenize(text)\n",
    "    text=''.join([word.lower() for word in text if word not in punc])\n",
    "    text =' '.join([word for word in text.split() if word not in st_words])\n",
    "\n",
    "\n",
    "    return text"
   ]
  },
  {
   "cell_type": "code",
   "execution_count": 24,
   "id": "17c7f4e9-2d9e-4304-86ff-b18ef8dd78f2",
   "metadata": {},
   "outputs": [
    {
     "data": {
      "application/vnd.microsoft.datawrangler.viewer.v0+json": {
       "columns": [
        {
         "name": "index",
         "rawType": "int64",
         "type": "integer"
        },
        {
         "name": "label",
         "rawType": "object",
         "type": "string"
        },
        {
         "name": "text",
         "rawType": "object",
         "type": "string"
        },
        {
         "name": "cleaned_text",
         "rawType": "object",
         "type": "string"
        }
       ],
       "conversionMethod": "pd.DataFrame",
       "ref": "934fc6c3-ddfb-4000-aafe-b3e8d1158f64",
       "rows": [
        [
         "0",
         "Positive",
         "im getting on borderlands and i will murder you all ,",
         "im getting borderlands murder"
        ],
        [
         "1",
         "Positive",
         "I am coming to the borders and I will kill you all,",
         "coming borders kill"
        ],
        [
         "2",
         "Positive",
         "im getting on borderlands and i will kill you all,",
         "im getting borderlands kill"
        ],
        [
         "3",
         "Positive",
         "im coming on borderlands and i will murder you all,",
         "im coming borderlands murder"
        ],
        [
         "4",
         "Positive",
         "im getting on borderlands 2 and i will murder you me all,",
         "im getting borderlands murder"
        ],
        [
         "5",
         "Positive",
         "im getting into borderlands and i can murder you all,",
         "im getting borderlands murder"
        ],
        [
         "6",
         "Positive",
         "So I spent a few hours making something for fun. . . If you don't know I am a HUGE @Borderlands fan and Maya is one of my favorite characters. So I decided to make myself a wallpaper for my PC. . Here is the original image versus the creation I made :) Enjoy! pic.twitter.com/mLsI5wf9Jg",
         "spent hours making something fun know huge fan maya one favorite characters decided make wallpaper pc original image versus creation made enjoy pic twitter com mlsi wf jg"
        ],
        [
         "7",
         "Positive",
         "So I spent a couple of hours doing something for fun... If you don't know that I'm a huge @ Borderlands fan and Maya is one of my favorite characters, I decided to make a wallpaper for my PC.. Here's the original picture compared to the creation I made:) Have fun! pic.twitter.com / mLsI5wf9Jg",
         "spent couple hours something fun know huge fan maya one favorite characters decided make wallpaper pc original picture compared creation made fun pic twitter com mlsi wf jg"
        ],
        [
         "8",
         "Positive",
         "So I spent a few hours doing something for fun... If you don't know I'm a HUGE @ Borderlands fan and Maya is one of my favorite characters.",
         "spent hours something fun know huge fan maya one favorite characters"
        ],
        [
         "9",
         "Positive",
         "So I spent a few hours making something for fun. . . If you don't know I am a HUGE RhandlerR fan and Maya is one of my favorite characters. So I decided to make myself a wallpaper for my PC. . Here is the original image versus the creation I made :) Enjoy! pic.twitter.com/mLsI5wf9Jg",
         "spent hours making something fun know huge rhandlerr fan maya one favorite characters decided make wallpaper pc original image versus creation made enjoy pic twitter com mlsi wf jg"
        ],
        [
         "10",
         "Positive",
         "2010 So I spent a few hours making something for fun. . . If you don't know I am a HUGE RhandlerR fan and Maya is one of my favorite characters. So I decided to make myself a wallpaper for my PC. . Here is the original image versus the creation I made :) Enjoy! pic.twitter.com/mLsI5wf9Jg",
         "spent hours making something fun know huge rhandlerr fan maya one favorite characters decided make wallpaper pc original image versus creation made enjoy pic twitter com mlsi wf jg"
        ],
        [
         "11",
         "Positive",
         "was",
         ""
        ],
        [
         "18",
         "Positive",
         "that was the first borderlands session in a long time where i actually had a really satisfying combat experience. i got some really good kills",
         "first borderlands session long time actually really satisfying combat experience got really good kills"
        ],
        [
         "19",
         "Positive",
         "this was the first Borderlands session in a long time where i actually had a really satisfying fighting experience. i got some really good kills",
         "first borderlands session long time actually really satisfying fighting experience got really good kills"
        ],
        [
         "21",
         "Positive",
         "that was the first borderlands session in a long time where i actually enjoyed a really satisfying combat experience. i got some rather good kills",
         "first borderlands session long time actually enjoyed really satisfying combat experience got rather good kills"
        ]
       ],
       "shape": {
        "columns": 3,
        "rows": 15
       }
      },
      "text/html": [
       "<div>\n",
       "<style scoped>\n",
       "    .dataframe tbody tr th:only-of-type {\n",
       "        vertical-align: middle;\n",
       "    }\n",
       "\n",
       "    .dataframe tbody tr th {\n",
       "        vertical-align: top;\n",
       "    }\n",
       "\n",
       "    .dataframe thead th {\n",
       "        text-align: right;\n",
       "    }\n",
       "</style>\n",
       "<table border=\"1\" class=\"dataframe\">\n",
       "  <thead>\n",
       "    <tr style=\"text-align: right;\">\n",
       "      <th></th>\n",
       "      <th>label</th>\n",
       "      <th>text</th>\n",
       "      <th>cleaned_text</th>\n",
       "    </tr>\n",
       "  </thead>\n",
       "  <tbody>\n",
       "    <tr>\n",
       "      <th>0</th>\n",
       "      <td>Positive</td>\n",
       "      <td>im getting on borderlands and i will murder yo...</td>\n",
       "      <td>im getting borderlands murder</td>\n",
       "    </tr>\n",
       "    <tr>\n",
       "      <th>1</th>\n",
       "      <td>Positive</td>\n",
       "      <td>I am coming to the borders and I will kill you...</td>\n",
       "      <td>coming borders kill</td>\n",
       "    </tr>\n",
       "    <tr>\n",
       "      <th>2</th>\n",
       "      <td>Positive</td>\n",
       "      <td>im getting on borderlands and i will kill you ...</td>\n",
       "      <td>im getting borderlands kill</td>\n",
       "    </tr>\n",
       "    <tr>\n",
       "      <th>3</th>\n",
       "      <td>Positive</td>\n",
       "      <td>im coming on borderlands and i will murder you...</td>\n",
       "      <td>im coming borderlands murder</td>\n",
       "    </tr>\n",
       "    <tr>\n",
       "      <th>4</th>\n",
       "      <td>Positive</td>\n",
       "      <td>im getting on borderlands 2 and i will murder ...</td>\n",
       "      <td>im getting borderlands murder</td>\n",
       "    </tr>\n",
       "    <tr>\n",
       "      <th>5</th>\n",
       "      <td>Positive</td>\n",
       "      <td>im getting into borderlands and i can murder y...</td>\n",
       "      <td>im getting borderlands murder</td>\n",
       "    </tr>\n",
       "    <tr>\n",
       "      <th>6</th>\n",
       "      <td>Positive</td>\n",
       "      <td>So I spent a few hours making something for fu...</td>\n",
       "      <td>spent hours making something fun know huge fan...</td>\n",
       "    </tr>\n",
       "    <tr>\n",
       "      <th>7</th>\n",
       "      <td>Positive</td>\n",
       "      <td>So I spent a couple of hours doing something f...</td>\n",
       "      <td>spent couple hours something fun know huge fan...</td>\n",
       "    </tr>\n",
       "    <tr>\n",
       "      <th>8</th>\n",
       "      <td>Positive</td>\n",
       "      <td>So I spent a few hours doing something for fun...</td>\n",
       "      <td>spent hours something fun know huge fan maya o...</td>\n",
       "    </tr>\n",
       "    <tr>\n",
       "      <th>9</th>\n",
       "      <td>Positive</td>\n",
       "      <td>So I spent a few hours making something for fu...</td>\n",
       "      <td>spent hours making something fun know huge rha...</td>\n",
       "    </tr>\n",
       "    <tr>\n",
       "      <th>10</th>\n",
       "      <td>Positive</td>\n",
       "      <td>2010 So I spent a few hours making something f...</td>\n",
       "      <td>spent hours making something fun know huge rha...</td>\n",
       "    </tr>\n",
       "    <tr>\n",
       "      <th>11</th>\n",
       "      <td>Positive</td>\n",
       "      <td>was</td>\n",
       "      <td></td>\n",
       "    </tr>\n",
       "    <tr>\n",
       "      <th>18</th>\n",
       "      <td>Positive</td>\n",
       "      <td>that was the first borderlands session in a lo...</td>\n",
       "      <td>first borderlands session long time actually r...</td>\n",
       "    </tr>\n",
       "    <tr>\n",
       "      <th>19</th>\n",
       "      <td>Positive</td>\n",
       "      <td>this was the first Borderlands session in a lo...</td>\n",
       "      <td>first borderlands session long time actually r...</td>\n",
       "    </tr>\n",
       "    <tr>\n",
       "      <th>21</th>\n",
       "      <td>Positive</td>\n",
       "      <td>that was the first borderlands session in a lo...</td>\n",
       "      <td>first borderlands session long time actually e...</td>\n",
       "    </tr>\n",
       "  </tbody>\n",
       "</table>\n",
       "</div>"
      ],
      "text/plain": [
       "       label                                               text  \\\n",
       "0   Positive  im getting on borderlands and i will murder yo...   \n",
       "1   Positive  I am coming to the borders and I will kill you...   \n",
       "2   Positive  im getting on borderlands and i will kill you ...   \n",
       "3   Positive  im coming on borderlands and i will murder you...   \n",
       "4   Positive  im getting on borderlands 2 and i will murder ...   \n",
       "5   Positive  im getting into borderlands and i can murder y...   \n",
       "6   Positive  So I spent a few hours making something for fu...   \n",
       "7   Positive  So I spent a couple of hours doing something f...   \n",
       "8   Positive  So I spent a few hours doing something for fun...   \n",
       "9   Positive  So I spent a few hours making something for fu...   \n",
       "10  Positive  2010 So I spent a few hours making something f...   \n",
       "11  Positive                                                was   \n",
       "18  Positive  that was the first borderlands session in a lo...   \n",
       "19  Positive  this was the first Borderlands session in a lo...   \n",
       "21  Positive  that was the first borderlands session in a lo...   \n",
       "\n",
       "                                         cleaned_text  \n",
       "0                       im getting borderlands murder  \n",
       "1                                 coming borders kill  \n",
       "2                         im getting borderlands kill  \n",
       "3                        im coming borderlands murder  \n",
       "4                       im getting borderlands murder  \n",
       "5                       im getting borderlands murder  \n",
       "6   spent hours making something fun know huge fan...  \n",
       "7   spent couple hours something fun know huge fan...  \n",
       "8   spent hours something fun know huge fan maya o...  \n",
       "9   spent hours making something fun know huge rha...  \n",
       "10  spent hours making something fun know huge rha...  \n",
       "11                                                     \n",
       "18  first borderlands session long time actually r...  \n",
       "19  first borderlands session long time actually r...  \n",
       "21  first borderlands session long time actually e...  "
      ]
     },
     "execution_count": 24,
     "metadata": {},
     "output_type": "execute_result"
    }
   ],
   "source": [
    "train_data['cleaned_text'] = train_data['text'].apply(lambda x: clean_text(x))\n",
    "\n",
    "train_data.head(15)"
   ]
  },
  {
   "cell_type": "code",
   "execution_count": 25,
   "id": "77a494d4-18e0-4f0f-935e-49011df43211",
   "metadata": {},
   "outputs": [
    {
     "data": {
      "text/plain": [
       "[('game', 6020),\n",
       " ('com', 3655),\n",
       " ('like', 2943),\n",
       " ('pic', 2539),\n",
       " ('get', 2537),\n",
       " ('twitter', 2390),\n",
       " ('really', 2236),\n",
       " ('play', 2212),\n",
       " ('good', 2133),\n",
       " ('one', 2063)]"
      ]
     },
     "execution_count": 25,
     "metadata": {},
     "output_type": "execute_result"
    }
   ],
   "source": [
    "from collections import Counter\n",
    "word_count = Counter()\n",
    "\n",
    "for text in train_data['cleaned_text']:\n",
    "    for word in text.split():\n",
    "        word_count[word] += 1\n",
    "\n",
    "word_count.most_common(10)"
   ]
  },
  {
   "cell_type": "code",
   "execution_count": 26,
   "id": "efba87ca-5fbf-40a0-918e-e09471ee1bd6",
   "metadata": {},
   "outputs": [
    {
     "data": {
      "text/plain": [
       "{'accumulate',\n",
       " 'discrete',\n",
       " 'integral',\n",
       " 'inventories',\n",
       " 'lqy',\n",
       " 'lurid',\n",
       " 'psu',\n",
       " 'steeper',\n",
       " 'withhold'}"
      ]
     },
     "execution_count": 26,
     "metadata": {},
     "output_type": "execute_result"
    }
   ],
   "source": [
    "freq =set(word for (word ,wc) in word_count.most_common(5))\n",
    "rare = set (word for (word ,wc) in word_count.most_common()[:-10:-1])\n",
    "rare"
   ]
  },
  {
   "cell_type": "code",
   "execution_count": 27,
   "id": "376586ae-e81b-4034-822b-d5fc009e90cb",
   "metadata": {},
   "outputs": [
    {
     "name": "stderr",
     "output_type": "stream",
     "text": [
      "C:\\Users\\Admin\\AppData\\Local\\Temp\\ipykernel_13740\\3603963501.py:1: FutureWarning: A value is trying to be set on a copy of a DataFrame or Series through chained assignment using an inplace method.\n",
      "The behavior will change in pandas 3.0. This inplace method will never work because the intermediate object on which we are setting values always behaves as a copy.\n",
      "\n",
      "For example, when doing 'df[col].method(value, inplace=True)', try using 'df.method({col: value}, inplace=True)' or df[col] = df[col].method(value) instead, to perform the operation inplace on the original object.\n",
      "\n",
      "\n",
      "  train_data['label'].replace({'Positive':1, 'Negative':0}, inplace= True)\n",
      "C:\\Users\\Admin\\AppData\\Local\\Temp\\ipykernel_13740\\3603963501.py:1: FutureWarning: Downcasting behavior in `replace` is deprecated and will be removed in a future version. To retain the old behavior, explicitly call `result.infer_objects(copy=False)`. To opt-in to the future behavior, set `pd.set_option('future.no_silent_downcasting', True)`\n",
      "  train_data['label'].replace({'Positive':1, 'Negative':0}, inplace= True)\n"
     ]
    }
   ],
   "source": [
    "train_data['label'].replace({'Positive':1, 'Negative':0}, inplace= True)"
   ]
  },
  {
   "cell_type": "code",
   "execution_count": 28,
   "id": "1be95945-0ee2-48a8-a120-5ce282be5702",
   "metadata": {},
   "outputs": [
    {
     "data": {
      "image/png": "[encoded data removed]",
      "text/plain": [
       "<Figure size 1000x500 with 1 Axes>"
      ]
     },
     "metadata": {},
     "output_type": "display_data"
    }
   ],
   "source": [
    "text_lengths = [len(text) for text in train_data['text']]\n",
    "\n",
    "# Plot histogram\n",
    "plt.figure(figsize=(10, 5))\n",
    "sns.histplot(text_lengths, bins=30, kde=True, color='blue')\n",
    "\n",
    "# Labels and title\n",
    "plt.xlabel(\"Text Length\")\n",
    "plt.ylabel(\"Frequency\")\n",
    "plt.title(\"Distribution of Text Lengths\")\n",
    "plt.show()"
   ]
  },
  {
   "cell_type": "code",
   "execution_count": 30,
   "id": "adb10795-67f6-4c06-88a3-d86879fe170e",
   "metadata": {},
   "outputs": [],
   "source": [
    "X = train_data['cleaned_text']\n",
    "y = train_data['label']"
   ]
  },
  {
   "cell_type": "code",
   "execution_count": 31,
   "id": "fa3c930e-6830-4a85-b3b0-f13616cc4dfc",
   "metadata": {},
   "outputs": [],
   "source": [
    "tokenizer =Tokenizer( oov_token= oov_tok )\n",
    "tokenizer.fit_on_texts(X)\n",
    "word_indx =tokenizer.word_index\n",
    "\n",
    "sequence = tokenizer.texts_to_sequences(X)\n",
    "sequence_padded =pad_sequences(sequence, padding= 'post', maxlen= max_length)"
   ]
  },
  {
   "cell_type": "code",
   "execution_count": 32,
   "id": "232f253e-d12e-4ef5-982f-e3ceb7a86f0e",
   "metadata": {},
   "outputs": [
    {
     "data": {
      "text/plain": [
       "17431"
      ]
     },
     "execution_count": 32,
     "metadata": {},
     "output_type": "execute_result"
    }
   ],
   "source": [
    "vocab_size =len(word_indx)\n",
    "vocab_size"
   ]
  },
  {
   "cell_type": "code",
   "execution_count": 33,
   "id": "44f6fdf7-aa4d-4d19-836f-58016fda8e45",
   "metadata": {},
   "outputs": [
    {
     "data": {
      "text/plain": [
       "523"
      ]
     },
     "execution_count": 33,
     "metadata": {},
     "output_type": "execute_result"
    }
   ],
   "source": [
    "word_indx['spent']"
   ]
  },
  {
   "cell_type": "code",
   "execution_count": 34,
   "id": "04a21b52-2884-420b-8aaa-b876236e3436",
   "metadata": {},
   "outputs": [
    {
     "name": "stdout",
     "output_type": "stream",
     "text": [
      "spent hours making something fun know huge rhandlerr fan maya one favorite characters decided make wallpaper pc original image versus creation made enjoy pic twitter com mlsi wf jg\n",
      "[523, 192, 181, 114, 38, 42, 304, 28, 497, 3048, 11, 166, 476, 466, 41, 3529, 150, 536, 2110, 4169, 6010, 109, 331, 5, 7, 3, 9754, 9755, 4170]\n",
      "[ 523  192  181  114   38   42  304   28  497 3048   11  166  476  466\n",
      "   41 3529  150  536 2110 4169 6010  109  331    5    7    3 9754 9755\n",
      " 4170    0    0    0    0    0    0    0    0    0    0    0    0    0\n",
      "    0    0    0    0    0    0    0    0    0    0    0    0    0    0\n",
      "    0    0    0    0    0    0    0    0    0    0    0    0    0    0\n",
      "    0    0    0    0    0    0    0    0    0    0    0    0    0    0\n",
      "    0    0    0    0    0    0    0    0    0    0    0    0    0    0\n",
      "    0    0    0    0    0    0    0    0    0    0    0    0    0    0\n",
      "    0    0    0    0    0    0    0    0    0    0    0    0    0    0\n",
      "    0    0    0    0    0    0    0    0    0    0    0    0    0    0\n",
      "    0    0    0    0    0    0    0    0    0    0]\n"
     ]
    }
   ],
   "source": [
    "print((X[10]))\n",
    "print((sequence[10]))\n",
    "print((sequence_padded[10]))"
   ]
  },
  {
   "cell_type": "markdown",
   "id": "109f8674-8103-4d95-bc08-38cd03a5fec5",
   "metadata": {},
   "source": [
    "## 6.2 save tokenizer"
   ]
  },
  {
   "cell_type": "code",
   "execution_count": 35,
   "id": "e800a834-0206-4f6b-85b2-e5d32b0429b9",
   "metadata": {},
   "outputs": [
    {
     "data": {
      "text/plain": [
       "['tokenizer.pkl']"
      ]
     },
     "execution_count": 35,
     "metadata": {},
     "output_type": "execute_result"
    }
   ],
   "source": [
    "joblib.dump(tokenizer, \"tokenizer.pkl\")"
   ]
  },
  {
   "cell_type": "markdown",
   "id": "6bebd3bb-3c29-41f6-93a7-ae5a6744a76a",
   "metadata": {},
   "source": [
    "# Step 7: model bulding"
   ]
  },
  {
   "cell_type": "markdown",
   "id": "3fcfb6b8-ff45-42ed-9ffc-574167a0f4d8",
   "metadata": {},
   "source": [
    "## 7.1: Spilit text into train and validation"
   ]
  },
  {
   "cell_type": "code",
   "execution_count": 36,
   "id": "3ab25f3b-5b56-40b0-b0fc-250716fda13d",
   "metadata": {},
   "outputs": [
    {
     "name": "stdout",
     "output_type": "stream",
     "text": [
      "train_sentence length : 32300\n",
      "train_labels length : 32300\n",
      "test_sentence length : 8075\n",
      "test_labels length : 8075\n"
     ]
    }
   ],
   "source": [
    "X_train, X_val, y_train, y_val = train_test_split(sequence_padded, y, test_size=0.2, random_state=42)\n",
    "\n",
    "print('train_sentence length :',len(X_train))\n",
    "print('train_labels length :',len(y_train))\n",
    "print('test_sentence length :',len(X_val))\n",
    "print('test_labels length :',len(y_val))"
   ]
  },
  {
   "cell_type": "markdown",
   "id": "a82030c0-2cd7-4f21-a385-1428b37b6cd8",
   "metadata": {},
   "source": [
    "## 7.2 Modle"
   ]
  },
  {
   "cell_type": "code",
   "execution_count": 37,
   "id": "248ee4e7-47cf-47b6-a59f-20245eeb87f5",
   "metadata": {},
   "outputs": [
    {
     "name": "stderr",
     "output_type": "stream",
     "text": [
      "c:\\Users\\Admin\\anaconda3\\Lib\\site-packages\\keras\\src\\layers\\core\\embedding.py:90: UserWarning: Argument `input_length` is deprecated. Just remove it.\n",
      "  warnings.warn(\n"
     ]
    },
    {
     "data": {
      "text/html": [
       "<pre style=\"white-space:pre;overflow-x:auto;line-height:normal;font-family:Menlo,'DejaVu Sans Mono',consolas,'Courier New',monospace\"><span style=\"font-weight: bold\">Model: \"sequential\"</span>\n",
       "</pre>\n"
      ],
      "text/plain": [
       "\u001b[1mModel: \"sequential\"\u001b[0m\n"
      ]
     },
     "metadata": {},
     "output_type": "display_data"
    },
    {
     "data": {
      "text/html": [
       "<pre style=\"white-space:pre;overflow-x:auto;line-height:normal;font-family:Menlo,'DejaVu Sans Mono',consolas,'Courier New',monospace\">┏━━━━━━━━━━━━━━━━━━━━━━━━━━━━━━━━━┳━━━━━━━━━━━━━━━━━━━━━━━━┳━━━━━━━━━━━━━━━┓\n",
       "┃<span style=\"font-weight: bold\"> Layer (type)                    </span>┃<span style=\"font-weight: bold\"> Output Shape           </span>┃<span style=\"font-weight: bold\">       Param # </span>┃\n",
       "┡━━━━━━━━━━━━━━━━━━━━━━━━━━━━━━━━━╇━━━━━━━━━━━━━━━━━━━━━━━━╇━━━━━━━━━━━━━━━┩\n",
       "│ embedding (<span style=\"color: #0087ff; text-decoration-color: #0087ff\">Embedding</span>)           │ (<span style=\"color: #00d7ff; text-decoration-color: #00d7ff\">None</span>, <span style=\"color: #00af00; text-decoration-color: #00af00\">150</span>, <span style=\"color: #00af00; text-decoration-color: #00af00\">128</span>)       │     <span style=\"color: #00af00; text-decoration-color: #00af00\">2,231,296</span> │\n",
       "├─────────────────────────────────┼────────────────────────┼───────────────┤\n",
       "│ bidirectional (<span style=\"color: #0087ff; text-decoration-color: #0087ff\">Bidirectional</span>)   │ (<span style=\"color: #00d7ff; text-decoration-color: #00d7ff\">None</span>, <span style=\"color: #00af00; text-decoration-color: #00af00\">150</span>, <span style=\"color: #00af00; text-decoration-color: #00af00\">128</span>)       │        <span style=\"color: #00af00; text-decoration-color: #00af00\">98,816</span> │\n",
       "├─────────────────────────────────┼────────────────────────┼───────────────┤\n",
       "│ bidirectional_1 (<span style=\"color: #0087ff; text-decoration-color: #0087ff\">Bidirectional</span>) │ (<span style=\"color: #00d7ff; text-decoration-color: #00d7ff\">None</span>, <span style=\"color: #00af00; text-decoration-color: #00af00\">64</span>)             │        <span style=\"color: #00af00; text-decoration-color: #00af00\">41,216</span> │\n",
       "├─────────────────────────────────┼────────────────────────┼───────────────┤\n",
       "│ dense (<span style=\"color: #0087ff; text-decoration-color: #0087ff\">Dense</span>)                   │ (<span style=\"color: #00d7ff; text-decoration-color: #00d7ff\">None</span>, <span style=\"color: #00af00; text-decoration-color: #00af00\">32</span>)             │         <span style=\"color: #00af00; text-decoration-color: #00af00\">2,080</span> │\n",
       "├─────────────────────────────────┼────────────────────────┼───────────────┤\n",
       "│ dense_1 (<span style=\"color: #0087ff; text-decoration-color: #0087ff\">Dense</span>)                 │ (<span style=\"color: #00d7ff; text-decoration-color: #00d7ff\">None</span>, <span style=\"color: #00af00; text-decoration-color: #00af00\">1</span>)              │            <span style=\"color: #00af00; text-decoration-color: #00af00\">33</span> │\n",
       "└─────────────────────────────────┴────────────────────────┴───────────────┘\n",
       "</pre>\n"
      ],
      "text/plain": [
       "┏━━━━━━━━━━━━━━━━━━━━━━━━━━━━━━━━━┳━━━━━━━━━━━━━━━━━━━━━━━━┳━━━━━━━━━━━━━━━┓\n",
       "┃\u001b[1m \u001b[0m\u001b[1mLayer (type)                   \u001b[0m\u001b[1m \u001b[0m┃\u001b[1m \u001b[0m\u001b[1mOutput Shape          \u001b[0m\u001b[1m \u001b[0m┃\u001b[1m \u001b[0m\u001b[1m      Param #\u001b[0m\u001b[1m \u001b[0m┃\n",
       "┡━━━━━━━━━━━━━━━━━━━━━━━━━━━━━━━━━╇━━━━━━━━━━━━━━━━━━━━━━━━╇━━━━━━━━━━━━━━━┩\n",
       "│ embedding (\u001b[38;5;33mEmbedding\u001b[0m)           │ (\u001b[38;5;45mNone\u001b[0m, \u001b[38;5;34m150\u001b[0m, \u001b[38;5;34m128\u001b[0m)       │     \u001b[38;5;34m2,231,296\u001b[0m │\n",
       "├─────────────────────────────────┼────────────────────────┼───────────────┤\n",
       "│ bidirectional (\u001b[38;5;33mBidirectional\u001b[0m)   │ (\u001b[38;5;45mNone\u001b[0m, \u001b[38;5;34m150\u001b[0m, \u001b[38;5;34m128\u001b[0m)       │        \u001b[38;5;34m98,816\u001b[0m │\n",
       "├─────────────────────────────────┼────────────────────────┼───────────────┤\n",
       "│ bidirectional_1 (\u001b[38;5;33mBidirectional\u001b[0m) │ (\u001b[38;5;45mNone\u001b[0m, \u001b[38;5;34m64\u001b[0m)             │        \u001b[38;5;34m41,216\u001b[0m │\n",
       "├─────────────────────────────────┼────────────────────────┼───────────────┤\n",
       "│ dense (\u001b[38;5;33mDense\u001b[0m)                   │ (\u001b[38;5;45mNone\u001b[0m, \u001b[38;5;34m32\u001b[0m)             │         \u001b[38;5;34m2,080\u001b[0m │\n",
       "├─────────────────────────────────┼────────────────────────┼───────────────┤\n",
       "│ dense_1 (\u001b[38;5;33mDense\u001b[0m)                 │ (\u001b[38;5;45mNone\u001b[0m, \u001b[38;5;34m1\u001b[0m)              │            \u001b[38;5;34m33\u001b[0m │\n",
       "└─────────────────────────────────┴────────────────────────┴───────────────┘\n"
      ]
     },
     "metadata": {},
     "output_type": "display_data"
    },
    {
     "data": {
      "text/html": [
       "<pre style=\"white-space:pre;overflow-x:auto;line-height:normal;font-family:Menlo,'DejaVu Sans Mono',consolas,'Courier New',monospace\"><span style=\"font-weight: bold\"> Total params: </span><span style=\"color: #00af00; text-decoration-color: #00af00\">2,373,441</span> (9.05 MB)\n",
       "</pre>\n"
      ],
      "text/plain": [
       "\u001b[1m Total params: \u001b[0m\u001b[38;5;34m2,373,441\u001b[0m (9.05 MB)\n"
      ]
     },
     "metadata": {},
     "output_type": "display_data"
    },
    {
     "data": {
      "text/html": [
       "<pre style=\"white-space:pre;overflow-x:auto;line-height:normal;font-family:Menlo,'DejaVu Sans Mono',consolas,'Courier New',monospace\"><span style=\"font-weight: bold\"> Trainable params: </span><span style=\"color: #00af00; text-decoration-color: #00af00\">2,373,441</span> (9.05 MB)\n",
       "</pre>\n"
      ],
      "text/plain": [
       "\u001b[1m Trainable params: \u001b[0m\u001b[38;5;34m2,373,441\u001b[0m (9.05 MB)\n"
      ]
     },
     "metadata": {},
     "output_type": "display_data"
    },
    {
     "data": {
      "text/html": [
       "<pre style=\"white-space:pre;overflow-x:auto;line-height:normal;font-family:Menlo,'DejaVu Sans Mono',consolas,'Courier New',monospace\"><span style=\"font-weight: bold\"> Non-trainable params: </span><span style=\"color: #00af00; text-decoration-color: #00af00\">0</span> (0.00 B)\n",
       "</pre>\n"
      ],
      "text/plain": [
       "\u001b[1m Non-trainable params: \u001b[0m\u001b[38;5;34m0\u001b[0m (0.00 B)\n"
      ]
     },
     "metadata": {},
     "output_type": "display_data"
    }
   ],
   "source": [
    "model =Sequential([\n",
    "    Embedding(vocab_size +1, embedding_dim, input_length= max_length),\n",
    "\n",
    "    Bidirectional(LSTM(64, return_sequences=True, dropout = 0.2 , recurrent_dropout = 0.2)),\n",
    "\n",
    "    Bidirectional(LSTM(32, dropout = 0.2 , recurrent_dropout = 0.2)),\n",
    "\n",
    "\n",
    "    Dense(32, activation='relu'),\n",
    "    Dense(1, activation='sigmoid')\n",
    "])\n",
    "\n",
    "model.compile(optimizer='adam', loss= 'binary_crossentropy', metrics= ['accuracy'])\n",
    "\n",
    "early_stopping = EarlyStopping(monitor='val_loss', patience=3, restore_best_weights=True)\n",
    "model.build(input_shape=(None, max_length))\n",
    "\n",
    "model.summary()"
   ]
  },
  {
   "cell_type": "code",
   "execution_count": null,
   "id": "f609ebd5-b67c-4bb4-8ebf-eb3cd0f2d283",
   "metadata": {},
   "outputs": [
    {
     "name": "stdout",
     "output_type": "stream",
     "text": [
      "Epoch 1/5\n"
     ]
    },
    {
     "name": "stdout",
     "output_type": "stream",
     "text": [
      "\u001b[1m505/505\u001b[0m \u001b[32m━━━━━━━━━━━━━━━━━━━━\u001b[0m\u001b[37m\u001b[0m \u001b[1m0s\u001b[0m 506ms/step - accuracy: 0.7291 - loss: 0.4950"
     ]
    }
   ],
   "source": [
    "history =model.fit(X_train, y_train, batch_size=64, epochs= 5, validation_data=(X_val, y_val), callbacks=[early_stopping])"
   ]
  },
  {
   "cell_type": "code",
   "execution_count": null,
   "id": "e31fe700-048e-4403-86bf-786dde7c62f6",
   "metadata": {},
   "outputs": [],
   "source": [
    "model.save('sentiment_analysis_model.keras')\n"
   ]
  },
  {
   "cell_type": "code",
   "execution_count": null,
   "id": "9f3fd0e0-e261-4cc0-90c9-aa7c0489b107",
   "metadata": {},
   "outputs": [
    {
     "name": "stdout",
     "output_type": "stream",
     "text": [
      "\u001b[1m253/253\u001b[0m \u001b[32m━━━━━━━━━━━━━━━━━━━━\u001b[0m\u001b[37m\u001b[0m \u001b[1m11s\u001b[0m 45ms/step - accuracy: 0.9333 - loss: 0.1958\n",
      "test accuracy is : 0.18071235716342926\n",
      "test loss is : 0.9363467693328857\n"
     ]
    }
   ],
   "source": [
    "accur, loss =model.evaluate(X_val, y_val)\n",
    "\n",
    "print('test accuracy is :',accur)\n",
    "print('test loss is :',loss)"
   ]
  },
  {
   "cell_type": "code",
   "execution_count": null,
   "id": "a1fe3e6b-29c5-42b3-9d28-576122a250af",
   "metadata": {},
   "outputs": [
    {
     "data": {
      "image/png": "[encoded data removed]",
      "text/plain": [
       "<Figure size 640x480 with 1 Axes>"
      ]
     },
     "metadata": {},
     "output_type": "display_data"
    },
    {
     "data": {
      "image/png": "[encoded data removed]",
      "text/plain": [
       "<Figure size 640x480 with 1 Axes>"
      ]
     },
     "metadata": {},
     "output_type": "display_data"
    }
   ],
   "source": [
    "def plot_graphs(history, string):\n",
    "  plt.plot(history.history[string])\n",
    "  plt.plot(history.history['val_'+ string])\n",
    "  plt.xlabel('Epochs')\n",
    "  plt.ylabel(string)\n",
    "  plt.legend([string,'val_'+ string ])\n",
    "  plt.show()\n",
    "\n",
    "plot_graphs(history, 'accuracy')\n",
    "plot_graphs(history, 'loss')"
   ]
  },
  {
   "cell_type": "markdown",
   "id": "a471133d-5454-4cd5-90c8-e11f55bdabf1",
   "metadata": {},
   "source": [
    "## 7.3: Confusion Matrix"
   ]
  },
  {
   "cell_type": "code",
   "execution_count": null,
   "id": "6932d045-6ac4-4bbe-aa13-23b5ecd794cd",
   "metadata": {},
   "outputs": [
    {
     "name": "stdout",
     "output_type": "stream",
     "text": [
      "\u001b[1m253/253\u001b[0m \u001b[32m━━━━━━━━━━━━━━━━━━━━\u001b[0m\u001b[37m\u001b[0m \u001b[1m12s\u001b[0m 43ms/step\n"
     ]
    },
    {
     "data": {
      "image/png": "[encoded data removed]",
      "text/plain": [
       "<Figure size 1000x800 with 2 Axes>"
      ]
     },
     "metadata": {},
     "output_type": "display_data"
    }
   ],
   "source": [
    "from sklearn.metrics import confusion_matrix, classification_report\n",
    "import seaborn as sns\n",
    "import matplotlib.pyplot as plt\n",
    "import numpy as np\n",
    "\n",
    "y_pred = model.predict(X_val)\n",
    "y_pred_classes = (y_pred > 0.5).astype(int) \n",
    "\n",
    "\n",
    "conf_matrix = confusion_matrix(y_val, y_pred_classes)\n",
    "\n",
    "# Plot confusion matrix\n",
    "plt.figure(figsize=(10, 8))\n",
    "sns.heatmap(conf_matrix, annot=True, fmt=\"d\", cmap='Blues', xticklabels=np.unique(y), yticklabels=np.unique(y))\n",
    "plt.title('Confusion Matrix')\n",
    "plt.xlabel('Predicted')\n",
    "plt.ylabel('Actual')\n",
    "plt.show()"
   ]
  },
  {
   "cell_type": "markdown",
   "id": "fd5830e9-cf66-4296-bc89-48d112b83d54",
   "metadata": {},
   "source": [
    "## 7.4 Classification Report"
   ]
  },
  {
   "cell_type": "code",
   "execution_count": null,
   "id": "5823e140-5f14-4f47-8120-95b333e7802f",
   "metadata": {},
   "outputs": [
    {
     "data": {
      "text/plain": [
       "0.9999362"
      ]
     },
     "execution_count": 47,
     "metadata": {},
     "output_type": "execute_result"
    }
   ],
   "source": [
    "y_pred.max()"
   ]
  },
  {
   "cell_type": "code",
   "execution_count": null,
   "id": "c26cc2a6-24f0-45b1-8819-b3215fcdfacc",
   "metadata": {},
   "outputs": [
    {
     "name": "stdout",
     "output_type": "stream",
     "text": [
      "Classification Report:\n",
      "               precision    recall  f1-score   support\n",
      "\n",
      "           0       0.95      0.93      0.94      4219\n",
      "           1       0.92      0.94      0.93      3856\n",
      "\n",
      "    accuracy                           0.94      8075\n",
      "   macro avg       0.94      0.94      0.94      8075\n",
      "weighted avg       0.94      0.94      0.94      8075\n",
      "\n"
     ]
    }
   ],
   "source": [
    "y_pred_classes = np.array(y_pred_classes)\n",
    "\n",
    "# Convert class labels to strings\n",
    "target_names = [str(label) for label in np.unique(y)]  \n",
    "\n",
    "# Generate classification report\n",
    "class_report = classification_report(y_val, y_pred_classes, target_names=target_names)\n",
    "print('Classification Report:\\n', class_report)"
   ]
  },
  {
   "cell_type": "code",
   "execution_count": null,
   "id": "fdd45292-bc33-49b4-a37a-10931486e2c3",
   "metadata": {},
   "outputs": [
    {
     "data": {
      "image/png": "[encoded data removed]",
      "text/plain": [
       "<Figure size 800x600 with 1 Axes>"
      ]
     },
     "metadata": {},
     "output_type": "display_data"
    }
   ],
   "source": [
    "report = classification_report(y_val, y_pred_classes, target_names=np.unique(y), output_dict=True)\n",
    "report_df = pd.DataFrame(report).transpose()\n",
    "\n",
    "plt.figure(figsize=(8, 6))\n",
    "sns.heatmap(report_df.iloc[:-1, :-1], annot=True, cmap='Blues', fmt='.2f', cbar=False)\n",
    "plt.xlabel('Metrics')\n",
    "plt.ylabel('Class')\n",
    "plt.title('Classification Report' )\n",
    "plt.show()"
   ]
  },
  {
   "cell_type": "code",
   "execution_count": null,
   "id": "225e382b-06c8-4f2a-ae52-1b82b46a3078",
   "metadata": {},
   "outputs": [
    {
     "name": "stdout",
     "output_type": "stream",
     "text": [
      "Requirement already satisfied: gradio in c:\\users\\admin\\anaconda3\\lib\\site-packages (5.24.0)\n",
      "Requirement already satisfied: aiofiles<25.0,>=22.0 in c:\\users\\admin\\anaconda3\\lib\\site-packages (from gradio) (24.1.0)\n",
      "Requirement already satisfied: anyio<5.0,>=3.0 in c:\\users\\admin\\anaconda3\\lib\\site-packages (from gradio) (4.2.0)\n",
      "Requirement already satisfied: fastapi<1.0,>=0.115.2 in c:\\users\\admin\\anaconda3\\lib\\site-packages (from gradio) (0.115.12)\n",
      "Requirement already satisfied: ffmpy in c:\\users\\admin\\anaconda3\\lib\\site-packages (from gradio) (0.5.0)\n",
      "Requirement already satisfied: gradio-client==1.8.0 in c:\\users\\admin\\anaconda3\\lib\\site-packages (from gradio) (1.8.0)\n",
      "Requirement already satisfied: groovy~=0.1 in c:\\users\\admin\\anaconda3\\lib\\site-packages (from gradio) (0.1.2)\n",
      "Requirement already satisfied: httpx>=0.24.1 in c:\\users\\admin\\anaconda3\\lib\\site-packages (from gradio) (0.28.1)\n",
      "Requirement already satisfied: huggingface-hub>=0.28.1 in c:\\users\\admin\\anaconda3\\lib\\site-packages (from gradio) (0.30.2)\n",
      "Requirement already satisfied: jinja2<4.0 in c:\\users\\admin\\anaconda3\\lib\\site-packages (from gradio) (3.1.4)\n",
      "Requirement already satisfied: markupsafe<4.0,>=2.0 in c:\\users\\admin\\anaconda3\\lib\\site-packages (from gradio) (2.1.3)\n",
      "Requirement already satisfied: numpy<3.0,>=1.0 in c:\\users\\admin\\anaconda3\\lib\\site-packages (from gradio) (1.26.4)\n",
      "Requirement already satisfied: orjson~=3.0 in c:\\users\\admin\\anaconda3\\lib\\site-packages (from gradio) (3.10.15)\n",
      "Requirement already satisfied: packaging in c:\\users\\admin\\anaconda3\\lib\\site-packages (from gradio) (23.2)\n",
      "Requirement already satisfied: pandas<3.0,>=1.0 in c:\\users\\admin\\anaconda3\\lib\\site-packages (from gradio) (2.2.2)\n",
      "Requirement already satisfied: pillow<12.0,>=8.0 in c:\\users\\admin\\anaconda3\\lib\\site-packages (from gradio) (10.3.0)\n",
      "Requirement already satisfied: pydantic<2.12,>=2.0 in c:\\users\\admin\\anaconda3\\lib\\site-packages (from gradio) (2.10.6)\n",
      "Requirement already satisfied: pydub in c:\\users\\admin\\anaconda3\\lib\\site-packages (from gradio) (0.25.1)\n",
      "Requirement already satisfied: python-multipart>=0.0.18 in c:\\users\\admin\\anaconda3\\lib\\site-packages (from gradio) (0.0.20)\n",
      "Requirement already satisfied: pyyaml<7.0,>=5.0 in c:\\users\\admin\\anaconda3\\lib\\site-packages (from gradio) (6.0.1)\n",
      "Requirement already satisfied: ruff>=0.9.3 in c:\\users\\admin\\anaconda3\\lib\\site-packages (from gradio) (0.11.5)\n",
      "Requirement already satisfied: safehttpx<0.2.0,>=0.1.6 in c:\\users\\admin\\anaconda3\\lib\\site-packages (from gradio) (0.1.6)\n",
      "Requirement already satisfied: semantic-version~=2.0 in c:\\users\\admin\\anaconda3\\lib\\site-packages (from gradio) (2.10.0)\n",
      "Requirement already satisfied: starlette<1.0,>=0.40.0 in c:\\users\\admin\\anaconda3\\lib\\site-packages (from gradio) (0.46.1)\n",
      "Requirement already satisfied: tomlkit<0.14.0,>=0.12.0 in c:\\users\\admin\\anaconda3\\lib\\site-packages (from gradio) (0.13.2)\n",
      "Requirement already satisfied: typer<1.0,>=0.12 in c:\\users\\admin\\anaconda3\\lib\\site-packages (from gradio) (0.15.2)\n",
      "Requirement already satisfied: typing-extensions~=4.0 in c:\\users\\admin\\anaconda3\\lib\\site-packages (from gradio) (4.12.2)\n",
      "Requirement already satisfied: uvicorn>=0.14.0 in c:\\users\\admin\\anaconda3\\lib\\site-packages (from gradio) (0.34.0)\n",
      "Requirement already satisfied: fsspec in c:\\users\\admin\\anaconda3\\lib\\site-packages (from gradio-client==1.8.0->gradio) (2024.3.1)\n",
      "Requirement already satisfied: websockets<16.0,>=10.0 in c:\\users\\admin\\anaconda3\\lib\\site-packages (from gradio-client==1.8.0->gradio) (15.0.1)\n",
      "Requirement already satisfied: idna>=2.8 in c:\\users\\admin\\anaconda3\\lib\\site-packages (from anyio<5.0,>=3.0->gradio) (3.7)\n",
      "Requirement already satisfied: sniffio>=1.1 in c:\\users\\admin\\anaconda3\\lib\\site-packages (from anyio<5.0,>=3.0->gradio) (1.3.0)\n",
      "Requirement already satisfied: certifi in c:\\users\\admin\\anaconda3\\lib\\site-packages (from httpx>=0.24.1->gradio) (2024.12.14)\n",
      "Requirement already satisfied: httpcore==1.* in c:\\users\\admin\\anaconda3\\lib\\site-packages (from httpx>=0.24.1->gradio) (1.0.7)\n",
      "Requirement already satisfied: h11<0.15,>=0.13 in c:\\users\\admin\\anaconda3\\lib\\site-packages (from httpcore==1.*->httpx>=0.24.1->gradio) (0.14.0)\n",
      "Requirement already satisfied: filelock in c:\\users\\admin\\anaconda3\\lib\\site-packages (from huggingface-hub>=0.28.1->gradio) (3.13.1)\n",
      "Requirement already satisfied: requests in c:\\users\\admin\\anaconda3\\lib\\site-packages (from huggingface-hub>=0.28.1->gradio) (2.32.2)\n",
      "Requirement already satisfied: tqdm>=4.42.1 in c:\\users\\admin\\anaconda3\\lib\\site-packages (from huggingface-hub>=0.28.1->gradio) (4.66.4)\n",
      "Requirement already satisfied: python-dateutil>=2.8.2 in c:\\users\\admin\\anaconda3\\lib\\site-packages (from pandas<3.0,>=1.0->gradio) (2.9.0.post0)\n",
      "Requirement already satisfied: pytz>=2020.1 in c:\\users\\admin\\anaconda3\\lib\\site-packages (from pandas<3.0,>=1.0->gradio) (2024.1)\n",
      "Requirement already satisfied: tzdata>=2022.7 in c:\\users\\admin\\anaconda3\\lib\\site-packages (from pandas<3.0,>=1.0->gradio) (2023.3)\n",
      "Requirement already satisfied: annotated-types>=0.6.0 in c:\\users\\admin\\anaconda3\\lib\\site-packages (from pydantic<2.12,>=2.0->gradio) (0.6.0)\n",
      "Requirement already satisfied: pydantic-core==2.27.2 in c:\\users\\admin\\anaconda3\\lib\\site-packages (from pydantic<2.12,>=2.0->gradio) (2.27.2)\n",
      "Requirement already satisfied: click>=8.0.0 in c:\\users\\admin\\anaconda3\\lib\\site-packages (from typer<1.0,>=0.12->gradio) (8.1.7)\n",
      "Requirement already satisfied: shellingham>=1.3.0 in c:\\users\\admin\\anaconda3\\lib\\site-packages (from typer<1.0,>=0.12->gradio) (1.5.4)\n",
      "Requirement already satisfied: rich>=10.11.0 in c:\\users\\admin\\anaconda3\\lib\\site-packages (from typer<1.0,>=0.12->gradio) (13.3.5)\n",
      "Requirement already satisfied: colorama in c:\\users\\admin\\anaconda3\\lib\\site-packages (from click>=8.0.0->typer<1.0,>=0.12->gradio) (0.4.6)\n",
      "Requirement already satisfied: six>=1.5 in c:\\users\\admin\\anaconda3\\lib\\site-packages (from python-dateutil>=2.8.2->pandas<3.0,>=1.0->gradio) (1.16.0)\n",
      "Requirement already satisfied: markdown-it-py<3.0.0,>=2.2.0 in c:\\users\\admin\\anaconda3\\lib\\site-packages (from rich>=10.11.0->typer<1.0,>=0.12->gradio) (2.2.0)\n",
      "Requirement already satisfied: pygments<3.0.0,>=2.13.0 in c:\\users\\admin\\anaconda3\\lib\\site-packages (from rich>=10.11.0->typer<1.0,>=0.12->gradio) (2.15.1)\n",
      "Requirement already satisfied: charset-normalizer<4,>=2 in c:\\users\\admin\\anaconda3\\lib\\site-packages (from requests->huggingface-hub>=0.28.1->gradio) (2.0.4)\n",
      "Requirement already satisfied: urllib3<3,>=1.21.1 in c:\\users\\admin\\anaconda3\\lib\\site-packages (from requests->huggingface-hub>=0.28.1->gradio) (2.2.2)\n",
      "Requirement already satisfied: mdurl~=0.1 in c:\\users\\admin\\anaconda3\\lib\\site-packages (from markdown-it-py<3.0.0,>=2.2.0->rich>=10.11.0->typer<1.0,>=0.12->gradio) (0.1.0)\n"
     ]
    }
   ],
   "source": [
    "!pip install gradio"
   ]
  },
  {
   "cell_type": "code",
   "execution_count": null,
   "id": "c8809f79-d8dd-4284-b468-3025ea97555f",
   "metadata": {},
   "outputs": [
    {
     "name": "stdout",
     "output_type": "stream",
     "text": [
      "* Running on local URL:  http://127.0.0.1:7860\n",
      "\n",
      "Could not create share link. Please check your internet connection or our status page: https://status.gradio.app.\n"
     ]
    },
    {
     "data": {
      "text/html": [
       "<div><iframe src=\"http://127.0.0.1:7860/\" width=\"100%\" height=\"500\" allow=\"autoplay; camera; microphone; clipboard-read; clipboard-write;\" frameborder=\"0\" allowfullscreen></iframe></div>"
      ],
      "text/plain": [
       "<IPython.core.display.HTML object>"
      ]
     },
     "metadata": {},
     "output_type": "display_data"
    },
    {
     "data": {
      "text/plain": []
     },
     "execution_count": 51,
     "metadata": {},
     "output_type": "execute_result"
    },
    {
     "name": "stdout",
     "output_type": "stream",
     "text": [
      "\u001b[1m1/1\u001b[0m \u001b[32m━━━━━━━━━━━━━━━━━━━━\u001b[0m\u001b[37m\u001b[0m \u001b[1m1s\u001b[0m 710ms/step\n",
      "\u001b[1m1/1\u001b[0m \u001b[32m━━━━━━━━━━━━━━━━━━━━\u001b[0m\u001b[37m\u001b[0m \u001b[1m0s\u001b[0m 73ms/step\n",
      "\u001b[1m1/1\u001b[0m \u001b[32m━━━━━━━━━━━━━━━━━━━━\u001b[0m\u001b[37m\u001b[0m \u001b[1m0s\u001b[0m 78ms/step\n"
     ]
    }
   ],
   "source": [
    "import gradio as gr\n",
    "import numpy as np\n",
    "import tensorflow as tf\n",
    "import joblib\n",
    "from tensorflow.keras.preprocessing.sequence import pad_sequences\n",
    "\n",
    "# Load saved model and tokenizer\n",
    "model = tf.keras.models.load_model(\"sentiment_analysis_model.keras\")\n",
    "tokenizer = joblib.load(\"tokenizer.pkl\")\n",
    "\n",
    "\n",
    "# Define preprocessing function\n",
    "max_length = 300  # Keep the same as training\n",
    "\n",
    "def predict_sentiment(text):\n",
    "    sequence = tokenizer.texts_to_sequences([text])  # Convert to sequences\n",
    "    sequence_padded = pad_sequences(sequence, maxlen=max_length, padding=\"post\")\n",
    "\n",
    "    prediction = model.predict(sequence_padded)[0][0]  # Get probability\n",
    "\n",
    "    return \"Positive\" if prediction > 0.5 else \"Negative\"\n",
    "\n",
    "# Create Gradio interface\n",
    "interface = gr.Interface(\n",
    "    fn=predict_sentiment,  # Function to call\n",
    "    inputs=gr.Textbox(lines=2, placeholder=\"Enter a sentence...\"),\n",
    "    outputs=\"text\",\n",
    "    title=\"Sentiment Analysis\",\n",
    "    description=\"Enter a sentence and get a sentiment prediction (Positive/Negative).\"\n",
    ")\n",
    "\n",
    "# Launch the app\n",
    "interface.launch(share=True)"
   ]
  }
 ],
 "metadata": {
  "kernelspec": {
   "display_name": "base",
   "language": "python",
   "name": "python3"
  },
  "language_info": {
   "codemirror_mode": {
    "name": "ipython",
    "version": 3
   },
   "file_extension": ".py",
   "mimetype": "text/x-python",
   "name": "python",
   "nbconvert_exporter": "python",
   "pygments_lexer": "ipython3",
   "version": "3.12.4"
  }
 },
 "nbformat": 4,
 "nbformat_minor": 5
}
